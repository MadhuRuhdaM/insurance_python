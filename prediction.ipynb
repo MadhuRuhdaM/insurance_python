{
 "cells": [
  {
   "cell_type": "code",
   "execution_count": 21,
   "id": "2c92910e-0390-4629-b748-0d853b8dcb6b",
   "metadata": {},
   "outputs": [
    {
     "name": "stdout",
     "output_type": "stream",
     "text": [
      "(510, 6)\n",
      "    Age  Gender Policy_Type Medical_History  Premium  Claim\n",
      "0  56.0       M    Standard            NONE   6845.0    1.0\n",
      "1  69.0       M         NaN             NaN   5246.0    0.0\n",
      "2  46.0  Female         NaN            NONE   2940.0    1.0\n",
      "3  32.0  FEMALE    Standard           Heart   5506.0    0.0\n",
      "4  60.0  Female         NaN        Diabetes   4761.0    1.0\n",
      "<class 'pandas.core.frame.DataFrame'>\n",
      "RangeIndex: 510 entries, 0 to 509\n",
      "Data columns (total 6 columns):\n",
      " #   Column           Non-Null Count  Dtype  \n",
      "---  ------           --------------  -----  \n",
      " 0   Age              509 non-null    float64\n",
      " 1   Gender           510 non-null    object \n",
      " 2   Policy_Type      407 non-null    object \n",
      " 3   Medical_History  348 non-null    object \n",
      " 4   Premium          508 non-null    float64\n",
      " 5   Claim            505 non-null    float64\n",
      "dtypes: float64(3), object(3)\n",
      "memory usage: 24.0+ KB\n",
      "None\n",
      "Age                  1\n",
      "Gender               0\n",
      "Policy_Type        103\n",
      "Medical_History    162\n",
      "Premium              2\n",
      "Claim                5\n",
      "dtype: int64\n"
     ]
    }
   ],
   "source": [
    "import pandas as pd\n",
    "\n",
    "df = pd.read_csv(\"synthetic_insurance_dirty.csv\")\n",
    "\n",
    "print(df.shape)\n",
    "print(df.head())\n",
    "print(df.info())\n",
    "print(df.isnull().sum())\n"
   ]
  },
  {
   "cell_type": "code",
   "execution_count": 22,
   "id": "65f4d594-3dda-4e1b-be28-9d3336adc6b8",
   "metadata": {},
   "outputs": [],
   "source": [
    "df['Age'] = df['Age'].fillna(df['Age'].median())\n",
    "df['Premium'] = df['Premium'].fillna(df['Premium'].median())\n",
    "df['Gender'] = df['Gender'].fillna(df['Gender'].mode()[0])\n",
    "df['Policy_Type'] = df['Policy_Type'].fillna(df['Policy_Type'].mode()[0])\n",
    "df['Medical_History'] = df['Medical_History'].fillna(df['Medical_History'].mode()[0])\n",
    "df['Claim'] = df['Claim'].fillna(0)"
   ]
  },
  {
   "cell_type": "code",
   "execution_count": 23,
   "id": "ef08bde9-ec0c-47c1-8d55-3beeee20b549",
   "metadata": {},
   "outputs": [],
   "source": [
    "# Normalize Gender\n",
    "df['Gender'] = df['Gender'].str.upper().replace({\n",
    "    'M': 'MALE', 'F': 'FEMALE', 'MALE': 'MALE', 'FEMALE': 'FEMALE'\n",
    "})\n",
    "\n",
    "# Normalize Policy Type\n",
    "df['Policy_Type'] = df['Policy_Type'].str.title().replace({\n",
    "    'Basics': 'Basic'\n",
    "})\n",
    "\n",
    "# Normalize Medical History\n",
    "df['Medical_History'] = df['Medical_History'].str.title().replace({\n",
    "    'None': 'None'\n",
    "})\n"
   ]
  },
  {
   "cell_type": "code",
   "execution_count": 24,
   "id": "c55cb65d-f4a6-4494-a1c4-b0f1dd5244a1",
   "metadata": {},
   "outputs": [],
   "source": [
    "df = df[(df['Age'] >= 18) & (df['Age'] <= 100)]\n",
    "df = df[(df['Premium'] > 0) & (df['Premium'] < 100000)]\n"
   ]
  },
  {
   "cell_type": "code",
   "execution_count": 25,
   "id": "f54e0c4d-6766-479f-8ade-6e5459652f08",
   "metadata": {},
   "outputs": [],
   "source": [
    "df.drop_duplicates(inplace=True)\n"
   ]
  },
  {
   "cell_type": "code",
   "execution_count": 26,
   "id": "9ef04910-5889-4fa1-8fa1-dee4f3bac671",
   "metadata": {},
   "outputs": [],
   "source": [
    "df['Gender'] = df['Gender'].map({'MALE': 0, 'FEMALE': 1})\n",
    "df['Policy_Type'] = df['Policy_Type'].map({'Basic': 0, 'Standard': 1, 'Premium': 2})\n",
    "df['Medical_History'] = df['Medical_History'].map({'None': 0, 'Diabetes': 1, 'Heart': 2, 'Chronic': 3})\n"
   ]
  },
  {
   "cell_type": "code",
   "execution_count": 27,
   "id": "62f4637f-19b4-40ec-a90d-0f5b1b0ad9b2",
   "metadata": {},
   "outputs": [
    {
     "name": "stdout",
     "output_type": "stream",
     "text": [
      "<class 'pandas.core.frame.DataFrame'>\n",
      "Index: 493 entries, 0 to 499\n",
      "Data columns (total 6 columns):\n",
      " #   Column           Non-Null Count  Dtype  \n",
      "---  ------           --------------  -----  \n",
      " 0   Age              493 non-null    float64\n",
      " 1   Gender           493 non-null    int64  \n",
      " 2   Policy_Type      493 non-null    int64  \n",
      " 3   Medical_History  493 non-null    int64  \n",
      " 4   Premium          493 non-null    float64\n",
      " 5   Claim            493 non-null    float64\n",
      "dtypes: float64(3), int64(3)\n",
      "memory usage: 27.0 KB\n",
      "None\n",
      "              Age      Gender  Policy_Type  Medical_History      Premium  \\\n",
      "count  493.000000  493.000000   493.000000       493.000000   493.000000   \n",
      "mean    50.162272    0.501014     0.817444         1.985801  4927.991886   \n",
      "std     18.453249    0.500507     0.742948         1.179862  1484.290741   \n",
      "min     18.000000    0.000000     0.000000         0.000000  2201.000000   \n",
      "25%     35.000000    0.000000     0.000000         1.000000  3924.000000   \n",
      "50%     50.000000    1.000000     1.000000         3.000000  4779.000000   \n",
      "75%     66.000000    1.000000     1.000000         3.000000  5969.000000   \n",
      "max     80.000000    1.000000     2.000000         3.000000  8719.000000   \n",
      "\n",
      "            Claim  \n",
      "count  493.000000  \n",
      "mean     0.511156  \n",
      "std      0.500383  \n",
      "min      0.000000  \n",
      "25%      0.000000  \n",
      "50%      1.000000  \n",
      "75%      1.000000  \n",
      "max      1.000000  \n",
      "    Age  Gender  Policy_Type  Medical_History  Premium  Claim\n",
      "0  56.0       0            1                0   6845.0    1.0\n",
      "1  69.0       0            1                3   5246.0    0.0\n",
      "2  46.0       1            1                0   2940.0    1.0\n",
      "3  32.0       1            1                2   5506.0    0.0\n",
      "4  60.0       1            1                1   4761.0    1.0\n"
     ]
    }
   ],
   "source": [
    "print(df.info())\n",
    "print(df.describe())\n",
    "print(df.head())\n"
   ]
  },
  {
   "cell_type": "code",
   "execution_count": 10,
   "id": "65dd940f-5d5a-482f-8166-d865b141600b",
   "metadata": {},
   "outputs": [
    {
     "name": "stdout",
     "output_type": "stream",
     "text": [
      "Age                0\n",
      "Gender             0\n",
      "Policy_Type        0\n",
      "Medical_History    0\n",
      "Premium            0\n",
      "Claim              0\n",
      "dtype: int64\n"
     ]
    }
   ],
   "source": [
    "print(df.isnull().sum()) "
   ]
  },
  {
   "cell_type": "code",
   "execution_count": 38,
   "id": "ec486a3f-f9a9-4a2d-8685-1e9f9f678a52",
   "metadata": {},
   "outputs": [
    {
     "name": "stdout",
     "output_type": "stream",
     "text": [
      "     Age  Gender  Policy_Type  Medical_History  Claim  Premium  Risk_Score  \\\n",
      "0   56.0       0            1                0    1.0   6845.0           9   \n",
      "1   69.0       0            1                3    0.0   5246.0           8   \n",
      "2   46.0       1            1                0    1.0   2940.0           8   \n",
      "3   32.0       1            1                2    0.0   5506.0           6   \n",
      "4   60.0       1            1                1    1.0   4761.0           8   \n",
      "5   25.0       0            2                2    1.0   8046.0           8   \n",
      "6   78.0       1            1                3    0.0   5881.0           8   \n",
      "7   38.0       0            1                3    0.0   4788.0           5   \n",
      "8   56.0       1            1                0    1.0   4400.0           8   \n",
      "10  36.0       0            0                0    0.0   4370.0           5   \n",
      "\n",
      "   Predicted_Risk  \n",
      "0          Medium  \n",
      "1          Medium  \n",
      "2          Medium  \n",
      "3             Low  \n",
      "4          Medium  \n",
      "5          Medium  \n",
      "6          Medium  \n",
      "7             Low  \n",
      "8          Medium  \n",
      "10            Low  \n"
     ]
    }
   ],
   "source": [
    "# --- Step 2: Define Rule-Based Risk Scoring ---\n",
    "def risk_score(row):\n",
    "    score = 0\n",
    "\n",
    "    # Age scoring\n",
    "    if row['Age'] < 25:\n",
    "        score += 1\n",
    "    elif 25 <= row['Age'] <= 40:\n",
    "        score += 2\n",
    "    elif 41 <= row['Age'] <= 60:\n",
    "        score += 3\n",
    "    else:\n",
    "        score += 4\n",
    "\n",
    "    # Gender scoring\n",
    "    if row['Gender'] == \"Male\":\n",
    "        score += 2\n",
    "    elif row['Gender'] == \"Female\":\n",
    "        score += 1\n",
    "\n",
    "    # Policy type scoring\n",
    "    if row['Policy_Type'] == \"Premium\":\n",
    "        score += 2\n",
    "    elif row['Policy_Type'] == \"Basic\":\n",
    "        score += 1\n",
    "\n",
    "    # Medical history scoring\n",
    "    if row['Medical_History'] == \"Yes\":\n",
    "        score += 3\n",
    "    else:\n",
    "        score += 1\n",
    "\n",
    "    # Claim scoring (instead of Previous_Claim)\n",
    "    if row['Claim'] == 1:\n",
    "        score += 3\n",
    "    else:\n",
    "        score += 1\n",
    "\n",
    "    # Premium amount scoring\n",
    "    if row['Premium'] < 5000:\n",
    "        score += 1\n",
    "    elif 5000 <= row['Premium'] <= 20000:\n",
    "        score += 2\n",
    "    else:\n",
    "        score += 3\n",
    "\n",
    "    return score\n",
    "\n",
    "df['Risk_Score'] = df.apply(risk_score, axis=1)\n",
    "\n",
    "# --- Step 3: Convert Risk Score → Risk Level ---\n",
    "def risk_level(score):\n",
    "    if score <= 7:\n",
    "        return \"Low\"\n",
    "    elif 8 <= score <= 11:\n",
    "        return \"Medium\"\n",
    "    else:\n",
    "        return \"High\"\n",
    "\n",
    "df['Predicted_Risk'] = df['Risk_Score'].apply(risk_level)\n",
    "\n",
    "# --- Step 4: Save Results ---\n",
    "df.to_csv(\"insurance_with_predictions.csv\", index=False)\n",
    "\n",
    "print(df[['Age', 'Gender', 'Policy_Type', 'Medical_History', 'Claim',\n",
    "          'Premium', 'Risk_Score', 'Predicted_Risk']].head(10))\n"
   ]
  },
  {
   "cell_type": "code",
   "execution_count": 39,
   "id": "3e92dead-bc84-4439-ac7c-ccda1478372b",
   "metadata": {},
   "outputs": [],
   "source": [
    "def predict_claim_risk(age, gender, policy_type, medical_history, premium, claim):\n",
    "    score = 0\n",
    "\n",
    "    # Age scoring\n",
    "    if age < 25:\n",
    "        score += 1\n",
    "    elif 25 <= age <= 40:\n",
    "        score += 2\n",
    "    elif 41 <= age <= 60:\n",
    "        score += 3\n",
    "    else:\n",
    "        score += 4\n",
    "\n",
    "    # Gender scoring\n",
    "    if gender == \"Male\":\n",
    "        score += 2\n",
    "    elif gender == \"Female\":\n",
    "        score += 1\n",
    "\n",
    "    # Policy type scoring\n",
    "    if policy_type == \"Premium\":\n",
    "        score += 2\n",
    "    elif policy_type == \"Basic\":\n",
    "        score += 1\n",
    "\n",
    "    # Medical history scoring\n",
    "    if medical_history == \"Yes\":\n",
    "        score += 3\n",
    "    else:\n",
    "        score += 1\n",
    "\n",
    "    # Claim scoring\n",
    "    if claim == 1:\n",
    "        score += 3\n",
    "    else:\n",
    "        score += 1\n",
    "\n",
    "    # Premium amount scoring\n",
    "    if premium < 5000:\n",
    "        score += 1\n",
    "    elif 5000 <= premium <= 20000:\n",
    "        score += 2\n",
    "    else:\n",
    "        score += 3\n",
    "\n",
    "    # Map score → Risk Level\n",
    "    if score <= 7:\n",
    "        return \"Low Risk\"\n",
    "    elif 8 <= score <= 12:\n",
    "        return \"Medium Risk\"\n",
    "    else:\n",
    "        return \"High Risk\"\n"
   ]
  },
  {
   "cell_type": "code",
   "execution_count": 40,
   "id": "0a8d0a6d-9712-4143-9ab4-9e590537b0cd",
   "metadata": {},
   "outputs": [
    {
     "name": "stdout",
     "output_type": "stream",
     "text": [
      "Medium Risk\n",
      "Low Risk\n"
     ]
    }
   ],
   "source": [
    "print(predict_claim_risk(55, \"Male\", \"Premium\", \"Diabetes\", 800, 0))\n",
    "\n",
    "\n",
    "print(predict_claim_risk(30, \"Female\", \"Basic\", \"None\", 400, 0))\n",
    "\n"
   ]
  },
  {
   "cell_type": "code",
   "execution_count": 42,
   "id": "405762d9-79b1-4249-ba50-1f0200adb576",
   "metadata": {},
   "outputs": [
    {
     "name": "stdout",
     "output_type": "stream",
     "text": [
      "Model Accuracy: 0.8255578093306288\n",
      "\n",
      "Confusion Matrix:\n",
      "[[211  30]\n",
      " [ 56 196]]\n",
      "\n",
      "Classification Report:\n",
      "              precision    recall  f1-score   support\n",
      "\n",
      "           0       0.79      0.88      0.83       241\n",
      "           1       0.87      0.78      0.82       252\n",
      "\n",
      "    accuracy                           0.83       493\n",
      "   macro avg       0.83      0.83      0.83       493\n",
      "weighted avg       0.83      0.83      0.83       493\n",
      "\n"
     ]
    }
   ],
   "source": [
    "import pandas as pd\n",
    "from sklearn.metrics import accuracy_score, confusion_matrix, classification_report\n",
    "\n",
    "# Example: Map Predicted_Risk → Predicted_Claim\n",
    "risk_mapping = {\"High\": 1, \"Medium\": 1, \"Low\": 0}\n",
    "\n",
    "# Convert risk levels into claim prediction\n",
    "df[\"Predicted_Claim\"] = df[\"Predicted_Risk\"].map(risk_mapping)\n",
    "\n",
    "# Handle any unmapped values (NaN) by defaulting to 0 (no claim)\n",
    "df[\"Predicted_Claim\"] = df[\"Predicted_Claim\"].fillna(0)\n",
    "\n",
    "# Convert Claim column to integer (if not already)\n",
    "df[\"Claim\"] = df[\"Claim\"].astype(int)\n",
    "df[\"Predicted_Claim\"] = df[\"Predicted_Claim\"].astype(int)\n",
    "\n",
    "# ✅ Model Evaluation\n",
    "accuracy = accuracy_score(df[\"Claim\"], df[\"Predicted_Claim\"])\n",
    "print(\"Model Accuracy:\", accuracy)\n",
    "\n",
    "print(\"\\nConfusion Matrix:\")\n",
    "print(confusion_matrix(df[\"Claim\"], df[\"Predicted_Claim\"]))\n",
    "\n",
    "print(\"\\nClassification Report:\")\n",
    "print(classification_report(df[\"Claim\"], df[\"Predicted_Claim\"]))\n"
   ]
  },
  {
   "cell_type": "code",
   "execution_count": 43,
   "id": "8fea3f8e-000f-4afe-849a-c1e27c1154a7",
   "metadata": {},
   "outputs": [
    {
     "name": "stdout",
     "output_type": "stream",
     "text": [
      "High Risk\n"
     ]
    }
   ],
   "source": [
    "print(predict_claim_risk(65, \"Male\", \"Premium\", \"Asthma\", 25000, 1))\n"
   ]
  },
  {
   "cell_type": "code",
   "execution_count": null,
   "id": "51e0f77a-e15e-46ec-ba6f-7e1a5c05bedd",
   "metadata": {},
   "outputs": [],
   "source": []
  }
 ],
 "metadata": {
  "kernelspec": {
   "display_name": "Python 3 (ipykernel)",
   "language": "python",
   "name": "python3"
  },
  "language_info": {
   "codemirror_mode": {
    "name": "ipython",
    "version": 3
   },
   "file_extension": ".py",
   "mimetype": "text/x-python",
   "name": "python",
   "nbconvert_exporter": "python",
   "pygments_lexer": "ipython3",
   "version": "3.11.0"
  }
 },
 "nbformat": 4,
 "nbformat_minor": 5
}
